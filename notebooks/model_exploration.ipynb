{
 "cells": [
  {
   "cell_type": "code",
   "execution_count": 1,
   "metadata": {},
   "outputs": [],
   "source": [
    "# Loading the libraries\n",
    "import pandas as pd\n",
    "import numpy as np"
   ]
  },
  {
   "cell_type": "code",
   "execution_count": 2,
   "metadata": {},
   "outputs": [
    {
     "name": "stdout",
     "output_type": "stream",
     "text": [
      "/home/keembo/pacmann_recommender_system/data/raw\n"
     ]
    }
   ],
   "source": [
    "#Path to the csv file\n",
    "path = r\"/home/keembo/pacmann_recommender_system/data/raw\"\n",
    "print(path)"
   ]
  },
  {
   "cell_type": "code",
   "execution_count": 3,
   "metadata": {},
   "outputs": [],
   "source": [
    "#Read csv\n",
    "final_animedataset_df = pd.read_csv(path + \"/final_animedataset.csv\")"
   ]
  },
  {
   "cell_type": "code",
   "execution_count": 4,
   "metadata": {},
   "outputs": [
    {
     "name": "stdout",
     "output_type": "stream",
     "text": [
      "<class 'pandas.core.frame.DataFrame'>\n",
      "RangeIndex: 35305695 entries, 0 to 35305694\n",
      "Data columns (total 13 columns):\n",
      " #   Column      Dtype  \n",
      "---  ------      -----  \n",
      " 0   username    object \n",
      " 1   anime_id    int64  \n",
      " 2   my_score    int64  \n",
      " 3   user_id     int64  \n",
      " 4   gender      object \n",
      " 5   title       object \n",
      " 6   type        object \n",
      " 7   source      object \n",
      " 8   score       float64\n",
      " 9   scored_by   int64  \n",
      " 10  rank        float64\n",
      " 11  popularity  int64  \n",
      " 12  genre       object \n",
      "dtypes: float64(2), int64(5), object(6)\n",
      "memory usage: 3.4+ GB\n",
      "None\n"
     ]
    }
   ],
   "source": [
    "# Showing the datafram information\n",
    "print(final_animedataset_df.info())"
   ]
  },
  {
   "cell_type": "code",
   "execution_count": 5,
   "metadata": {},
   "outputs": [],
   "source": [
    "# Reducing the dataset to 10% of the original dataset, for memory purposes\n",
    "final_animedataset_df = final_animedataset_df.sample(frac=0.1, random_state=42)"
   ]
  },
  {
   "cell_type": "code",
   "execution_count": 6,
   "metadata": {},
   "outputs": [
    {
     "name": "stdout",
     "output_type": "stream",
     "text": [
      "                  username  anime_id  my_score  user_id  gender  \\\n",
      "1444015            Nioko13     11531         0    74301  Female   \n",
      "32919378             Dust_     34599         0  5595739    Male   \n",
      "26337444  Nishimiya_Sensei      8937         0  5808728    Male   \n",
      "25294092             ddbad       317         5  2503685    Male   \n",
      "2213121       natsumi-chan      4246        10   109945  Female   \n",
      "\n",
      "                                          title   type       source  score  \\\n",
      "1444015                         UN-GO: Inga-ron  Movie        Novel   7.70   \n",
      "32919378                          Made in Abyss     TV    Web manga   8.91   \n",
      "26337444              Toaru Majutsu no Index II     TV  Light novel   7.79   \n",
      "25294092     Final Fantasy VII: Advent Children  Movie         Game   7.88   \n",
      "2213121   Eureka Seven: Pocket ga Niji de Ippai  Movie     Original   7.22   \n",
      "\n",
      "          scored_by    rank  popularity  \\\n",
      "1444015       14566  1121.0        2229   \n",
      "32919378     166905    20.0         178   \n",
      "26337444     130053   912.0         294   \n",
      "25294092     112969   733.0         500   \n",
      "2213121       19189  2715.0        1867   \n",
      "\n",
      "                                               genre  \n",
      "1444015                        Mystery, Supernatural  \n",
      "32919378  Sci-Fi, Adventure, Mystery, Drama, Fantasy  \n",
      "26337444          Action, Sci-Fi, Super Power, Magic  \n",
      "25294092                Action, Super Power, Fantasy  \n",
      "2213121            Adventure, Mecha, Romance, Sci-Fi  \n"
     ]
    }
   ],
   "source": [
    "# Show the first few rows of the dataframe\n",
    "print(final_animedataset_df.head())"
   ]
  },
  {
   "cell_type": "code",
   "execution_count": 7,
   "metadata": {},
   "outputs": [
    {
     "name": "stdout",
     "output_type": "stream",
     "text": [
      "username         24\n",
      "anime_id          0\n",
      "my_score          0\n",
      "user_id           0\n",
      "gender            0\n",
      "title             0\n",
      "type              0\n",
      "source            0\n",
      "score             0\n",
      "scored_by         0\n",
      "rank          75180\n",
      "popularity        0\n",
      "genre           225\n",
      "dtype: int64\n"
     ]
    }
   ],
   "source": [
    "# Check for missing values\n",
    "print(final_animedataset_df.isnull().sum())"
   ]
  },
  {
   "cell_type": "code",
   "execution_count": 8,
   "metadata": {},
   "outputs": [
    {
     "name": "stdout",
     "output_type": "stream",
     "text": [
      "0\n"
     ]
    }
   ],
   "source": [
    "# Check for duplicates\n",
    "print(final_animedataset_df.duplicated().sum())"
   ]
  },
  {
   "cell_type": "code",
   "execution_count": 9,
   "metadata": {},
   "outputs": [
    {
     "name": "stdout",
     "output_type": "stream",
     "text": [
      "(3530570, 13)\n"
     ]
    }
   ],
   "source": [
    "# Show the shape of the dataframe\n",
    "print(final_animedataset_df.shape)"
   ]
  },
  {
   "cell_type": "code",
   "execution_count": 10,
   "metadata": {},
   "outputs": [
    {
     "name": "stdout",
     "output_type": "stream",
     "text": [
      "           my_score         score     scored_by          rank    popularity\n",
      "count  3.530570e+06  3.530570e+06  3.530570e+06  3.455390e+06  3.530570e+06\n",
      "mean   4.595993e+00  7.528114e+00  1.097831e+05  2.044993e+03  1.334928e+03\n",
      "std    3.909624e+00  7.272679e-01  1.480833e+05  1.971351e+03  1.562810e+03\n",
      "min    0.000000e+00  1.900000e+00  2.000000e+02  1.000000e+00  1.000000e+00\n",
      "25%    0.000000e+00  7.110000e+00  1.746700e+04  5.000000e+02  2.510000e+02\n",
      "50%    6.000000e+00  7.560000e+00  5.399900e+04  1.413000e+03  7.670000e+02\n",
      "75%    8.000000e+00  8.030000e+00  1.396270e+05  3.039000e+03  1.821000e+03\n",
      "max    1.000000e+01  9.250000e+00  1.009477e+06  9.527000e+03  1.026500e+04\n"
     ]
    }
   ],
   "source": [
    "# Statistics of only the columns my_score, score, scored_by, rank, popularity\n",
    "print(final_animedataset_df[['my_score','score','scored_by', 'rank', 'popularity']].describe())"
   ]
  },
  {
   "cell_type": "code",
   "execution_count": 11,
   "metadata": {},
   "outputs": [],
   "source": [
    "# Handling missing values\n",
    "final_animedataset_df.dropna(inplace=True)\n",
    "processed_df = final_animedataset_df"
   ]
  },
  {
   "cell_type": "code",
   "execution_count": 12,
   "metadata": {},
   "outputs": [],
   "source": [
    "# creating a user matrix using sparse matrix\n",
    "from scipy.sparse import csr_matrix\n",
    "\n",
    "#create the sparse for the data\n",
    "row = processed_df['user_id'].astype('category').cat.codes\n",
    "col = processed_df['anime_id'].astype('category').cat.codes\n",
    "processed_df['user_id_cat'] = row\n",
    "processed_df['anime_id_cat'] = col\n",
    "rating = processed_df['my_score']\n",
    "\n",
    "sparse_matrix = csr_matrix((rating, (row, col)), shape=(row.max()+1, col.max()+1))"
   ]
  },
  {
   "cell_type": "code",
   "execution_count": 13,
   "metadata": {},
   "outputs": [
    {
     "name": "stdout",
     "output_type": "stream",
     "text": [
      "  (0, 1729)\t8\n",
      "  (0, 6094)\t0\n",
      "  (0, 111)\t8\n",
      "  (0, 1340)\t9\n",
      "  (0, 349)\t7\n",
      "  (0, 1383)\t5\n",
      "  (0, 2840)\t0\n",
      "  (0, 3196)\t0\n",
      "  (0, 1488)\t7\n",
      "  (0, 3445)\t0\n",
      "  (0, 1000)\t0\n",
      "  (0, 1180)\t8\n",
      "  (0, 286)\t5\n",
      "  (0, 512)\t8\n",
      "  (0, 51)\t9\n",
      "  (0, 175)\t10\n",
      "  (0, 164)\t8\n",
      "  (0, 1574)\t6\n",
      "  (0, 274)\t8\n",
      "  (0, 708)\t0\n",
      "  (0, 3343)\t0\n",
      "  (0, 157)\t7\n",
      "  (0, 4544)\t0\n",
      "  (0, 76)\t8\n",
      "  (0, 33)\t7\n",
      "  :\t:\n",
      "  (110676, 3838)\t0\n",
      "  (110676, 6583)\t0\n",
      "  (110676, 3525)\t0\n",
      "  (110676, 1800)\t0\n",
      "  (110677, 5993)\t8\n",
      "  (110677, 6258)\t8\n",
      "  (110677, 6387)\t8\n",
      "  (110677, 7211)\t0\n",
      "  (110677, 469)\t8\n",
      "  (110677, 4366)\t8\n",
      "  (110677, 7214)\t9\n",
      "  (110677, 2871)\t9\n",
      "  (110677, 7260)\t7\n",
      "  (110677, 4104)\t9\n",
      "  (110677, 6287)\t9\n",
      "  (110678, 7012)\t0\n",
      "  (110678, 484)\t9\n",
      "  (110678, 393)\t10\n",
      "  (110678, 142)\t7\n",
      "  (110679, 1843)\t0\n",
      "  (110679, 6228)\t0\n",
      "  (110679, 6983)\t0\n",
      "  (110679, 7435)\t0\n",
      "  (110679, 6294)\t0\n",
      "  (110679, 1321)\t0\n"
     ]
    }
   ],
   "source": [
    "print(sparse_matrix)"
   ]
  },
  {
   "cell_type": "code",
   "execution_count": 14,
   "metadata": {},
   "outputs": [
    {
     "name": "stdout",
     "output_type": "stream",
     "text": [
      "  (0, 2707)\t0.00028471311850851466\n",
      "  (0, 7619)\t0.013120216178876463\n",
      "  (0, 7256)\t0.010288646729738475\n",
      "  (0, 6902)\t0.007997175665966116\n",
      "  (0, 2913)\t0.006017933304760942\n",
      "  (0, 2161)\t0.00475111116975817\n",
      "  (0, 7116)\t0.007902734905315264\n",
      "  (0, 6423)\t0.008142994286992345\n",
      "  (0, 7465)\t0.005318981595074605\n",
      "  (0, 7165)\t0.0030981438646147203\n",
      "  (0, 7093)\t0.001991508792913957\n",
      "  (0, 7080)\t0.0035538940670224173\n",
      "  (0, 7061)\t0.0015545756515292697\n",
      "  (0, 6625)\t0.004671047829090624\n",
      "  (0, 5814)\t0.001746276485515214\n",
      "  (0, 4790)\t0.0022363933580628118\n",
      "  (0, 3886)\t0.003094209712088567\n",
      "  (0, 3790)\t0.0011917463226826547\n",
      "  (0, 3748)\t0.00245520515636011\n",
      "  (0, 3704)\t0.007313709488902375\n",
      "  (0, 5675)\t0.013115322197265302\n",
      "  (0, 6512)\t0.004032309541058253\n",
      "  (0, 5756)\t0.005727286856337283\n",
      "  (0, 1446)\t0.0032436745529513065\n",
      "  (0, 6657)\t0.0048405076668452856\n",
      "  :\t:\n",
      "  (7631, 3256)\t0.01759522741919797\n",
      "  (7631, 3188)\t0.0034587402957251224\n",
      "  (7631, 3155)\t0.005167460970468587\n",
      "  (7631, 3079)\t0.009000572807505798\n",
      "  (7631, 2981)\t0.005210260716730352\n",
      "  (7631, 2975)\t0.003301687767382754\n",
      "  (7631, 2899)\t0.0034454136762873677\n",
      "  (7631, 2871)\t0.008142013886002022\n",
      "  (7631, 2791)\t0.004172217093240473\n",
      "  (7631, 2620)\t0.017121970987316982\n",
      "  (7631, 2592)\t0.006586447744222325\n",
      "  (7631, 2120)\t0.012878465172840484\n",
      "  (7631, 1669)\t0.008148799368421234\n",
      "  (7631, 1551)\t0.0043043544562706825\n",
      "  (7631, 1355)\t0.007761670142787488\n",
      "  (7631, 818)\t0.005368652666306348\n",
      "  (7631, 757)\t0.005533097106070668\n",
      "  (7631, 680)\t0.007611421730243427\n",
      "  (7631, 549)\t0.0017047622751069347\n",
      "  (7631, 492)\t0.007077928802348723\n",
      "  (7631, 465)\t0.008175347332764937\n",
      "  (7631, 429)\t0.005226175199629729\n",
      "  (7631, 347)\t0.0027648293999908485\n",
      "  (7631, 178)\t0.0028255990286473447\n",
      "  (7631, 80)\t0.001126894759481567\n"
     ]
    }
   ],
   "source": [
    "# computing the similarity matric using cosine similarity\n",
    "from sklearn.metrics.pairwise import cosine_similarity\n",
    "\n",
    "item_similarity_matrix = cosine_similarity(sparse_matrix.T, dense_output=False)\n",
    "print(item_similarity_matrix)"
   ]
  },
  {
   "cell_type": "code",
   "execution_count": 15,
   "metadata": {},
   "outputs": [],
   "source": [
    "# Create a funcction to get the top 5 similar anime\n",
    "def recommend_anime(user_id, sparse_matrix, item_similarity_matrix, k=5):\n",
    "    # Covert the user_id to category codes\n",
    "    user_id_cat = processed_df[processed_df['user_id'] == user_id]['user_id_cat'].iloc[0]\n",
    "    # Get all items rated by the user\n",
    "    rated_items = sparse_matrix[user_id_cat].nonzero()[1]\n",
    "    # Get the similarity scores of the items rated by the user\n",
    "    similarity_scores = item_similarity_matrix[rated_items]\n",
    "    # Sum the similarity scores of the items rated by the user\n",
    "    total_similarity_scores = similarity_scores.sum(axis=0).A.flatten()\n",
    "    \n",
    "    # Recommended items with the highest similarity scores\n",
    "    recommendations = np.argsort(total_similarity_scores)[::-1]\n",
    "    # Exclude already rated items from the recommendations and return the top k\n",
    "    mask = np.isin(recommendations, rated_items, invert=True)\n",
    "    recommend_animes = recommendations[mask][:k]\n",
    "    \n",
    "    return recommend_animes"
   ]
  },
  {
   "cell_type": "code",
   "execution_count": 16,
   "metadata": {},
   "outputs": [
    {
     "data": {
      "text/plain": [
       "array([  52, 1321,  100,   20,    0])"
      ]
     },
     "execution_count": 16,
     "metadata": {},
     "output_type": "execute_result"
    }
   ],
   "source": [
    "# Test the function\n",
    "recommended_list = recommend_anime(1, sparse_matrix, item_similarity_matrix)\n",
    "recommended_list"
   ]
  },
  {
   "cell_type": "code",
   "execution_count": 17,
   "metadata": {},
   "outputs": [
    {
     "data": {
      "text/html": [
       "<div>\n",
       "<style scoped>\n",
       "    .dataframe tbody tr th:only-of-type {\n",
       "        vertical-align: middle;\n",
       "    }\n",
       "\n",
       "    .dataframe tbody tr th {\n",
       "        vertical-align: top;\n",
       "    }\n",
       "\n",
       "    .dataframe thead th {\n",
       "        text-align: right;\n",
       "    }\n",
       "</style>\n",
       "<table border=\"1\" class=\"dataframe\">\n",
       "  <thead>\n",
       "    <tr style=\"text-align: right;\">\n",
       "      <th></th>\n",
       "      <th>title</th>\n",
       "      <th>genre</th>\n",
       "    </tr>\n",
       "  </thead>\n",
       "  <tbody>\n",
       "    <tr>\n",
       "      <th>27994411</th>\n",
       "      <td>Death Note</td>\n",
       "      <td>Mystery, Police, Psychological, Supernatural, ...</td>\n",
       "    </tr>\n",
       "    <tr>\n",
       "      <th>17856970</th>\n",
       "      <td>Fullmetal Alchemist</td>\n",
       "      <td>Action, Adventure, Comedy, Drama, Fantasy, Mag...</td>\n",
       "    </tr>\n",
       "    <tr>\n",
       "      <th>2560959</th>\n",
       "      <td>Neon Genesis Evangelion</td>\n",
       "      <td>Action, Sci-Fi, Dementia, Psychological, Drama...</td>\n",
       "    </tr>\n",
       "    <tr>\n",
       "      <th>26887068</th>\n",
       "      <td>Cowboy Bebop</td>\n",
       "      <td>Action, Adventure, Comedy, Drama, Sci-Fi, Space</td>\n",
       "    </tr>\n",
       "    <tr>\n",
       "      <th>24695977</th>\n",
       "      <td>Full Metal Panic? Fumoffu</td>\n",
       "      <td>Action, Comedy, School</td>\n",
       "    </tr>\n",
       "  </tbody>\n",
       "</table>\n",
       "</div>"
      ],
      "text/plain": [
       "                              title  \\\n",
       "27994411                 Death Note   \n",
       "17856970        Fullmetal Alchemist   \n",
       "2560959     Neon Genesis Evangelion   \n",
       "26887068               Cowboy Bebop   \n",
       "24695977  Full Metal Panic? Fumoffu   \n",
       "\n",
       "                                                      genre  \n",
       "27994411  Mystery, Police, Psychological, Supernatural, ...  \n",
       "17856970  Action, Adventure, Comedy, Drama, Fantasy, Mag...  \n",
       "2560959   Action, Sci-Fi, Dementia, Psychological, Drama...  \n",
       "26887068    Action, Adventure, Comedy, Drama, Sci-Fi, Space  \n",
       "24695977                             Action, Comedy, School  "
      ]
     },
     "execution_count": 17,
     "metadata": {},
     "output_type": "execute_result"
    }
   ],
   "source": [
    "# Add the unique anime name to the recommended list\n",
    "recommended_animes = processed_df[processed_df['anime_id_cat'].isin(recommended_list)].drop_duplicates(subset=['title'])\n",
    "recommended_animes[['title', 'genre']]"
   ]
  },
  {
   "cell_type": "code",
   "execution_count": 18,
   "metadata": {},
   "outputs": [],
   "source": [
    "#  Evaluate the model precision and recall\n",
    "from sklearn.model_selection import train_test_split\n",
    "\n",
    "# Split the data into train and test sets\n",
    "train_df, test_df = train_test_split(processed_df, test_size=0.2, random_state=42)\n",
    "\n",
    "# Create a user-item matrix for the train set\n",
    "train_row = train_df['user_id_cat']\n",
    "train_col = train_df['anime_id_cat']\n",
    "train_matrix = csr_matrix((train_df['my_score'], (train_row, train_col)), shape=(train_row.max()+1, train_col.max()+1))\n",
    "\n",
    "# Create a user-item matrix for the test set\n",
    "test_row = test_df['user_id_cat']\n",
    "test_col = test_df['anime_id_cat']\n",
    "test_matrix = csr_matrix((test_df['my_score'], (test_row, test_col)), shape=(test_row.max()+1, test_col.max()+1))"
   ]
  },
  {
   "cell_type": "code",
   "execution_count": 19,
   "metadata": {},
   "outputs": [],
   "source": [
    "train_similarity_matrix = cosine_similarity(train_matrix.T, dense_output=False)"
   ]
  },
  {
   "cell_type": "code",
   "execution_count": 20,
   "metadata": {},
   "outputs": [
    {
     "data": {
      "text/plain": [
       "array([ 512, 2505, 3089, 2815,  723])"
      ]
     },
     "execution_count": 20,
     "metadata": {},
     "output_type": "execute_result"
    }
   ],
   "source": [
    "# Test the recommendation function on the test set\n",
    "test_recommended_list = recommend_anime(1, test_matrix, train_similarity_matrix)\n",
    "test_recommended_list"
   ]
  },
  {
   "cell_type": "code",
   "execution_count": 21,
   "metadata": {},
   "outputs": [
    {
     "data": {
      "text/html": [
       "<div>\n",
       "<style scoped>\n",
       "    .dataframe tbody tr th:only-of-type {\n",
       "        vertical-align: middle;\n",
       "    }\n",
       "\n",
       "    .dataframe tbody tr th {\n",
       "        vertical-align: top;\n",
       "    }\n",
       "\n",
       "    .dataframe thead th {\n",
       "        text-align: right;\n",
       "    }\n",
       "</style>\n",
       "<table border=\"1\" class=\"dataframe\">\n",
       "  <thead>\n",
       "    <tr style=\"text-align: right;\">\n",
       "      <th></th>\n",
       "      <th>title</th>\n",
       "      <th>genre</th>\n",
       "    </tr>\n",
       "  </thead>\n",
       "  <tbody>\n",
       "    <tr>\n",
       "      <th>16253</th>\n",
       "      <td>Major S2</td>\n",
       "      <td>Comedy, Drama, Shounen, Sports</td>\n",
       "    </tr>\n",
       "    <tr>\n",
       "      <th>20975307</th>\n",
       "      <td>Major S5</td>\n",
       "      <td>Comedy, Drama, Romance, Sports</td>\n",
       "    </tr>\n",
       "    <tr>\n",
       "      <th>4937914</th>\n",
       "      <td>Major S4</td>\n",
       "      <td>Sports, Comedy, Drama, Shounen</td>\n",
       "    </tr>\n",
       "    <tr>\n",
       "      <th>15524719</th>\n",
       "      <td>Ginsoukikou Ordian</td>\n",
       "      <td>Mecha, Sci-Fi</td>\n",
       "    </tr>\n",
       "    <tr>\n",
       "      <th>30767194</th>\n",
       "      <td>Sakigake!! Otokojuku Movie</td>\n",
       "      <td>Action, Comedy, Martial Arts, School, Shounen</td>\n",
       "    </tr>\n",
       "  </tbody>\n",
       "</table>\n",
       "</div>"
      ],
      "text/plain": [
       "                               title  \\\n",
       "16253                       Major S2   \n",
       "20975307                    Major S5   \n",
       "4937914                     Major S4   \n",
       "15524719          Ginsoukikou Ordian   \n",
       "30767194  Sakigake!! Otokojuku Movie   \n",
       "\n",
       "                                                  genre  \n",
       "16253                    Comedy, Drama, Shounen, Sports  \n",
       "20975307                 Comedy, Drama, Romance, Sports  \n",
       "4937914                  Sports, Comedy, Drama, Shounen  \n",
       "15524719                                  Mecha, Sci-Fi  \n",
       "30767194  Action, Comedy, Martial Arts, School, Shounen  "
      ]
     },
     "execution_count": 21,
     "metadata": {},
     "output_type": "execute_result"
    }
   ],
   "source": [
    "# Add the unique anime name to the recommended list\n",
    "test_recommended_animes = processed_df[processed_df['anime_id_cat'].isin(test_recommended_list)].drop_duplicates(subset=['title'])\n",
    "test_recommended_animes[['title', 'genre']]"
   ]
  },
  {
   "cell_type": "code",
   "execution_count": 25,
   "metadata": {},
   "outputs": [],
   "source": [
    "# Function to return the list of recomended anime for each user_id\n",
    "def recommendation_list(df, sparse_matrix, item_similarity_matrix):\n",
    "    # Empty dict\n",
    "    results = []\n",
    "    \n",
    "    for user_id in df['user_id'].unique():\n",
    "        recommended_anime = recommend_anime(user_id, sparse_matrix, item_similarity_matrix)\n",
    "        \n",
    "        # Append the results to the empty dict\n",
    "        results.append({'user_id': user_id,'recommended_anime': recommended_anime})\n",
    "        \n",
    "    results_df = pd.DataFrame(results)\n",
    "    \n",
    "    return results_df"
   ]
  },
  {
   "cell_type": "code",
   "execution_count": 26,
   "metadata": {},
   "outputs": [
    {
     "data": {
      "text/html": [
       "<div>\n",
       "<style scoped>\n",
       "    .dataframe tbody tr th:only-of-type {\n",
       "        vertical-align: middle;\n",
       "    }\n",
       "\n",
       "    .dataframe tbody tr th {\n",
       "        vertical-align: top;\n",
       "    }\n",
       "\n",
       "    .dataframe thead th {\n",
       "        text-align: right;\n",
       "    }\n",
       "</style>\n",
       "<table border=\"1\" class=\"dataframe\">\n",
       "  <thead>\n",
       "    <tr style=\"text-align: right;\">\n",
       "      <th></th>\n",
       "      <th>user_id</th>\n",
       "      <th>recommended_anime</th>\n",
       "    </tr>\n",
       "  </thead>\n",
       "  <tbody>\n",
       "    <tr>\n",
       "      <th>0</th>\n",
       "      <td>4662832</td>\n",
       "      <td>[7631, 2547, 2535, 2536, 2537]</td>\n",
       "    </tr>\n",
       "    <tr>\n",
       "      <th>1</th>\n",
       "      <td>26925</td>\n",
       "      <td>[7631, 2547, 2535, 2536, 2537]</td>\n",
       "    </tr>\n",
       "    <tr>\n",
       "      <th>2</th>\n",
       "      <td>1505011</td>\n",
       "      <td>[7533, 7619, 7256, 7595, 7494]</td>\n",
       "    </tr>\n",
       "    <tr>\n",
       "      <th>3</th>\n",
       "      <td>6661026</td>\n",
       "      <td>[6685, 6082, 6985, 6852, 6402]</td>\n",
       "    </tr>\n",
       "    <tr>\n",
       "      <th>4</th>\n",
       "      <td>6405969</td>\n",
       "      <td>[6467, 6919, 6507, 5461, 6175]</td>\n",
       "    </tr>\n",
       "    <tr>\n",
       "      <th>...</th>\n",
       "      <td>...</td>\n",
       "      <td>...</td>\n",
       "    </tr>\n",
       "    <tr>\n",
       "      <th>97584</th>\n",
       "      <td>1112123</td>\n",
       "      <td>[2871, 2893, 2827, 3486, 3441]</td>\n",
       "    </tr>\n",
       "    <tr>\n",
       "      <th>97585</th>\n",
       "      <td>3908237</td>\n",
       "      <td>[7631, 2547, 2535, 2536, 2537]</td>\n",
       "    </tr>\n",
       "    <tr>\n",
       "      <th>97586</th>\n",
       "      <td>429269</td>\n",
       "      <td>[7631, 2547, 2535, 2536, 2537]</td>\n",
       "    </tr>\n",
       "    <tr>\n",
       "      <th>97587</th>\n",
       "      <td>321826</td>\n",
       "      <td>[3218, 686, 2064, 7090, 4207]</td>\n",
       "    </tr>\n",
       "    <tr>\n",
       "      <th>97588</th>\n",
       "      <td>3885973</td>\n",
       "      <td>[4897, 3135, 6415, 6682, 3602]</td>\n",
       "    </tr>\n",
       "  </tbody>\n",
       "</table>\n",
       "<p>97589 rows × 2 columns</p>\n",
       "</div>"
      ],
      "text/plain": [
       "       user_id               recommended_anime\n",
       "0      4662832  [7631, 2547, 2535, 2536, 2537]\n",
       "1        26925  [7631, 2547, 2535, 2536, 2537]\n",
       "2      1505011  [7533, 7619, 7256, 7595, 7494]\n",
       "3      6661026  [6685, 6082, 6985, 6852, 6402]\n",
       "4      6405969  [6467, 6919, 6507, 5461, 6175]\n",
       "...        ...                             ...\n",
       "97584  1112123  [2871, 2893, 2827, 3486, 3441]\n",
       "97585  3908237  [7631, 2547, 2535, 2536, 2537]\n",
       "97586   429269  [7631, 2547, 2535, 2536, 2537]\n",
       "97587   321826   [3218, 686, 2064, 7090, 4207]\n",
       "97588  3885973  [4897, 3135, 6415, 6682, 3602]\n",
       "\n",
       "[97589 rows x 2 columns]"
      ]
     },
     "execution_count": 26,
     "metadata": {},
     "output_type": "execute_result"
    }
   ],
   "source": [
    "# Returning the recommended anime for each user in the test set\n",
    "recommended_test_list = recommendation_list(test_df, test_matrix, train_similarity_matrix)\n",
    "recommended_test_list"
   ]
  },
  {
   "cell_type": "code",
   "execution_count": 27,
   "metadata": {},
   "outputs": [
    {
     "data": {
      "text/plain": [
       "33982588     0\n",
       "32709888     8\n",
       "21541801    10\n",
       "19969784     9\n",
       "30173199     6\n",
       "14918115     7\n",
       "22480136     5\n",
       "13482421     3\n",
       "1012239      2\n",
       "9462057      4\n",
       "31211667     1\n",
       "Name: my_score, dtype: int64"
      ]
     },
     "execution_count": 27,
     "metadata": {},
     "output_type": "execute_result"
    }
   ],
   "source": [
    "# Returning the relevant anime for each user in the test set\n",
    "distinct_ranking = test_df['my_score'].drop_duplicates()\n",
    "distinct_ranking"
   ]
  },
  {
   "cell_type": "code",
   "execution_count": 28,
   "metadata": {},
   "outputs": [
    {
     "data": {
      "text/html": [
       "<div>\n",
       "<style scoped>\n",
       "    .dataframe tbody tr th:only-of-type {\n",
       "        vertical-align: middle;\n",
       "    }\n",
       "\n",
       "    .dataframe tbody tr th {\n",
       "        vertical-align: top;\n",
       "    }\n",
       "\n",
       "    .dataframe thead th {\n",
       "        text-align: right;\n",
       "    }\n",
       "</style>\n",
       "<table border=\"1\" class=\"dataframe\">\n",
       "  <thead>\n",
       "    <tr style=\"text-align: right;\">\n",
       "      <th></th>\n",
       "      <th>user_id</th>\n",
       "      <th>anime_id</th>\n",
       "    </tr>\n",
       "  </thead>\n",
       "  <tbody>\n",
       "    <tr>\n",
       "      <th>0</th>\n",
       "      <td>1</td>\n",
       "      <td>[627, 1735, 201, 289, 306]</td>\n",
       "    </tr>\n",
       "    <tr>\n",
       "      <th>1</th>\n",
       "      <td>3</td>\n",
       "      <td>[16]</td>\n",
       "    </tr>\n",
       "    <tr>\n",
       "      <th>2</th>\n",
       "      <td>4</td>\n",
       "      <td>[2251, 2167, 4985, 6793, 13659, 13655, 32601]</td>\n",
       "    </tr>\n",
       "    <tr>\n",
       "      <th>3</th>\n",
       "      <td>20</td>\n",
       "      <td>[572, 174, 1818, 457, 1956]</td>\n",
       "    </tr>\n",
       "    <tr>\n",
       "      <th>4</th>\n",
       "      <td>36</td>\n",
       "      <td>[770, 8197, 7769, 31629, 240, 34798, 3001, 322...</td>\n",
       "    </tr>\n",
       "    <tr>\n",
       "      <th>...</th>\n",
       "      <td>...</td>\n",
       "      <td>...</td>\n",
       "    </tr>\n",
       "    <tr>\n",
       "      <th>84501</th>\n",
       "      <td>7240178</td>\n",
       "      <td>[18277]</td>\n",
       "    </tr>\n",
       "    <tr>\n",
       "      <th>84502</th>\n",
       "      <td>7242053</td>\n",
       "      <td>[30711, 31251, 570, 33433, 29095, 3784]</td>\n",
       "    </tr>\n",
       "    <tr>\n",
       "      <th>84503</th>\n",
       "      <td>7248525</td>\n",
       "      <td>[8074, 30307]</td>\n",
       "    </tr>\n",
       "    <tr>\n",
       "      <th>84504</th>\n",
       "      <td>7249032</td>\n",
       "      <td>[34822]</td>\n",
       "    </tr>\n",
       "    <tr>\n",
       "      <th>84505</th>\n",
       "      <td>7250030</td>\n",
       "      <td>[528]</td>\n",
       "    </tr>\n",
       "  </tbody>\n",
       "</table>\n",
       "<p>84506 rows × 2 columns</p>\n",
       "</div>"
      ],
      "text/plain": [
       "       user_id                                           anime_id\n",
       "0            1                         [627, 1735, 201, 289, 306]\n",
       "1            3                                               [16]\n",
       "2            4      [2251, 2167, 4985, 6793, 13659, 13655, 32601]\n",
       "3           20                        [572, 174, 1818, 457, 1956]\n",
       "4           36  [770, 8197, 7769, 31629, 240, 34798, 3001, 322...\n",
       "...        ...                                                ...\n",
       "84501  7240178                                            [18277]\n",
       "84502  7242053            [30711, 31251, 570, 33433, 29095, 3784]\n",
       "84503  7248525                                      [8074, 30307]\n",
       "84504  7249032                                            [34822]\n",
       "84505  7250030                                              [528]\n",
       "\n",
       "[84506 rows x 2 columns]"
      ]
     },
     "execution_count": 28,
     "metadata": {},
     "output_type": "execute_result"
    }
   ],
   "source": [
    "# Score threshold for an anime to be recommended\n",
    "score_threshold = 5\n",
    "\n",
    "# Filter the anime list for each user that is above the score threshold\n",
    "relevant_anime = test_df[test_df['my_score'] >= score_threshold]\n",
    "# Create a dataframe with the relevant anime for each user\n",
    "relevant_anime = relevant_anime.groupby('user_id')['anime_id'].apply(list).reset_index()\n",
    "relevant_anime"
   ]
  },
  {
   "cell_type": "code",
   "execution_count": 29,
   "metadata": {},
   "outputs": [
    {
     "name": "stdout",
     "output_type": "stream",
     "text": [
      "{'precision': 0.00046387238775944905, 'recall': 0.0004900147004410132, 'f1_score': 0.00047658531485025255}\n"
     ]
    }
   ],
   "source": [
    "def evaluate_recommender_system(recommended_df, relevant_df):\n",
    "    # Merge the recommended and relevant dataframes on user_id\n",
    "    merged_df = pd.merge(recommended_df, relevant_df, on='user_id', how='inner', suffixes=('_rec', '_rel'))\n",
    "    \n",
    "    # Calculate True Positives (TP), False Positives (FP), and False Negatives (FN)\n",
    "    TP = merged_df.apply(lambda row: len(set(row['recommended_anime']) & set(row['anime_id'])), axis=1).sum()\n",
    "    FP = merged_df.apply(lambda row: len(set(row['recommended_anime']) - set(row['anime_id'])), axis=1).sum()\n",
    "    FN = merged_df.apply(lambda row: len(set(row['anime_id']) - set(row['recommended_anime'])), axis=1).sum()\n",
    "    \n",
    "    # Calculate Precision, Recall, and F1 Score\n",
    "    precision = TP / (TP + FP) if (TP + FP) > 0 else 0\n",
    "    recall = TP / (TP + FN) if (TP + FN) > 0 else 0\n",
    "    f1_score = 2 * (precision * recall) / (precision + recall) if (precision + recall) > 0 else 0\n",
    "    \n",
    "    return {'precision': precision, 'recall': recall, 'f1_score': f1_score}\n",
    "\n",
    "# Assuming recommended_test_list and relevant_anime are your dataframes\n",
    "evaluation_results = evaluate_recommender_system(recommended_test_list, relevant_anime)\n",
    "print(evaluation_results)"
   ]
  },
  {
   "cell_type": "code",
   "execution_count": 30,
   "metadata": {},
   "outputs": [],
   "source": [
    "from surprise import Dataset, Reader\n",
    "from surprise.model_selection import cross_validate, GridSearchCV\n",
    "from surprise import SVD"
   ]
  },
  {
   "cell_type": "code",
   "execution_count": 34,
   "metadata": {},
   "outputs": [],
   "source": [
    "# Assuming 'processed_df' is your DataFrame with columns ['user_id', 'anime_id', 'my_score']\n",
    "reader = Reader(rating_scale=(1, 10))  # Adjust the rating_scale according to your dataset's scale\n",
    "data = Dataset.load_from_df(train_df[['user_id', 'anime_id', 'my_score']], reader)"
   ]
  },
  {
   "cell_type": "code",
   "execution_count": 35,
   "metadata": {},
   "outputs": [
    {
     "name": "stdout",
     "output_type": "stream",
     "text": [
      "Evaluating RMSE, MAE of algorithm SVD on 5 split(s).\n",
      "\n",
      "                  Fold 1  Fold 2  Fold 3  Fold 4  Fold 5  Mean    Std     \n",
      "RMSE (testset)    3.5344  3.5321  3.5300  3.5328  3.5318  3.5322  0.0014  \n",
      "MAE (testset)     2.8839  2.8824  2.8821  2.8834  2.8831  2.8830  0.0007  \n",
      "Fit time          33.20   31.97   32.94   32.02   32.68   32.56   0.49    \n",
      "Test time         4.38    4.96    5.25    4.41    5.28    4.86    0.40    \n"
     ]
    },
    {
     "data": {
      "text/plain": [
       "{'test_rmse': array([3.53438921, 3.53205583, 3.53003922, 3.53282336, 3.53181551]),\n",
       " 'test_mae': array([2.88394924, 2.88240467, 2.88210828, 2.88344933, 2.88306504]),\n",
       " 'fit_time': (33.196446895599365,\n",
       "  31.967849016189575,\n",
       "  32.93683338165283,\n",
       "  32.02084565162659,\n",
       "  32.67876195907593),\n",
       " 'test_time': (4.377642869949341,\n",
       "  4.959263801574707,\n",
       "  5.254959344863892,\n",
       "  4.4053568840026855,\n",
       "  5.2798449993133545)}"
      ]
     },
     "execution_count": 35,
     "metadata": {},
     "output_type": "execute_result"
    }
   ],
   "source": [
    "# Use the SVD algorithm\n",
    "algo = SVD()\n",
    "\n",
    "# Perform a 5-fold cross-validation\n",
    "cross_validate(algo, data, measures=['RMSE', 'MAE'], cv=5, verbose=True)"
   ]
  },
  {
   "cell_type": "code",
   "execution_count": 36,
   "metadata": {},
   "outputs": [
    {
     "name": "stdout",
     "output_type": "stream",
     "text": [
      "3.3166180950490407\n",
      "{'n_epochs': 20, 'lr_all': 0.002, 'reg_all': 0.1}\n"
     ]
    }
   ],
   "source": [
    "param_grid = {\n",
    "    'n_epochs': [5, 10, 20],  # Number of epochs\n",
    "    'lr_all': [0.002, 0.005],  # Learning rate\n",
    "    'reg_all': [0.02, 0.1]  # Regularization term\n",
    "}\n",
    "\n",
    "gs = GridSearchCV(SVD, param_grid, measures=['rmse', 'mae'], cv=3)\n",
    "\n",
    "gs.fit(data)\n",
    "\n",
    "# Best RMSE score\n",
    "print(gs.best_score['rmse'])\n",
    "\n",
    "# Combination of parameters that gave the best RMSE score\n",
    "print(gs.best_params['rmse'])"
   ]
  },
  {
   "cell_type": "code",
   "execution_count": 37,
   "metadata": {},
   "outputs": [
    {
     "name": "stdout",
     "output_type": "stream",
     "text": [
      "Evaluating RMSE, MAE of algorithm SVD on 5 split(s).\n",
      "\n",
      "                  Fold 1  Fold 2  Fold 3  Fold 4  Fold 5  Mean    Std     \n",
      "RMSE (testset)    3.2822  3.2793  3.2852  3.2844  3.2814  3.2825  0.0021  \n",
      "MAE (testset)     2.7755  2.7741  2.7776  2.7797  2.7717  2.7757  0.0028  \n",
      "Fit time          31.22   31.75   32.11   31.88   32.15   31.82   0.34    \n",
      "Test time         5.59    5.36    5.61    5.47    5.64    5.53    0.11    \n"
     ]
    },
    {
     "data": {
      "text/plain": [
       "{'test_rmse': array([3.28221386, 3.27929361, 3.28516909, 3.28436129, 3.28138222]),\n",
       " 'test_mae': array([2.77548837, 2.7740694 , 2.7776254 , 2.77972567, 2.77171222]),\n",
       " 'fit_time': (31.21980381011963,\n",
       "  31.7461576461792,\n",
       "  32.11291980743408,\n",
       "  31.882842779159546,\n",
       "  32.14727306365967),\n",
       " 'test_time': (5.589059829711914,\n",
       "  5.362762928009033,\n",
       "  5.612452268600464,\n",
       "  5.4657135009765625,\n",
       "  5.643476247787476)}"
      ]
     },
     "execution_count": 37,
     "metadata": {},
     "output_type": "execute_result"
    }
   ],
   "source": [
    "# Use the best parameters\n",
    "algo = SVD(n_epochs=gs.best_params['rmse']['n_epochs'], lr_all=gs.best_params['rmse']['lr_all'], reg_all=gs.best_params['rmse']['reg_all'])\n",
    "\n",
    "# Retrain the algorithm on the full training data\n",
    "trainset = data.build_full_trainset()\n",
    "algo.fit(trainset)\n",
    "\n",
    "# Cross Validate again\n",
    "cross_validate(algo, data, measures=['RMSE', 'MAE'], cv=5, verbose=True)"
   ]
  },
  {
   "cell_type": "code",
   "execution_count": 38,
   "metadata": {},
   "outputs": [],
   "source": [
    "def predict_ratings(user_id, anime_ids, algo):\n",
    "    # List to store each anime ID and its predicted rating\n",
    "    predictions = []\n",
    "\n",
    "    for anime_id in anime_ids:\n",
    "        # Predict the rating for each anime ID\n",
    "        prediction = algo.predict(user_id, anime_id)\n",
    "        predictions.append((anime_id, prediction.est))\n",
    "\n",
    "    # Convert the list of predictions to a DataFrame\n",
    "    predictions_df = pd.DataFrame(predictions, columns=['anime_id', 'predicted_rating'])\n",
    "\n",
    "    # Sort the DataFrame by predicted ratings in descending order\n",
    "    predictions_df = predictions_df.sort_values('predicted_rating', ascending=False)\n",
    "\n",
    "    return predictions_df"
   ]
  },
  {
   "cell_type": "code",
   "execution_count": 39,
   "metadata": {},
   "outputs": [
    {
     "data": {
      "text/html": [
       "<div>\n",
       "<style scoped>\n",
       "    .dataframe tbody tr th:only-of-type {\n",
       "        vertical-align: middle;\n",
       "    }\n",
       "\n",
       "    .dataframe tbody tr th {\n",
       "        vertical-align: top;\n",
       "    }\n",
       "\n",
       "    .dataframe thead th {\n",
       "        text-align: right;\n",
       "    }\n",
       "</style>\n",
       "<table border=\"1\" class=\"dataframe\">\n",
       "  <thead>\n",
       "    <tr style=\"text-align: right;\">\n",
       "      <th></th>\n",
       "      <th>anime_id</th>\n",
       "      <th>predicted_rating</th>\n",
       "    </tr>\n",
       "  </thead>\n",
       "  <tbody>\n",
       "    <tr>\n",
       "      <th>932</th>\n",
       "      <td>572</td>\n",
       "      <td>8.892566</td>\n",
       "    </tr>\n",
       "    <tr>\n",
       "      <th>449</th>\n",
       "      <td>1575</td>\n",
       "      <td>8.286678</td>\n",
       "    </tr>\n",
       "    <tr>\n",
       "      <th>448</th>\n",
       "      <td>199</td>\n",
       "      <td>8.190081</td>\n",
       "    </tr>\n",
       "    <tr>\n",
       "      <th>200</th>\n",
       "      <td>853</td>\n",
       "      <td>8.179647</td>\n",
       "    </tr>\n",
       "    <tr>\n",
       "      <th>166</th>\n",
       "      <td>120</td>\n",
       "      <td>7.947438</td>\n",
       "    </tr>\n",
       "    <tr>\n",
       "      <th>317</th>\n",
       "      <td>31043</td>\n",
       "      <td>7.552004</td>\n",
       "    </tr>\n",
       "    <tr>\n",
       "      <th>272</th>\n",
       "      <td>7311</td>\n",
       "      <td>7.216020</td>\n",
       "    </tr>\n",
       "    <tr>\n",
       "      <th>379</th>\n",
       "      <td>1689</td>\n",
       "      <td>7.203213</td>\n",
       "    </tr>\n",
       "    <tr>\n",
       "      <th>1032</th>\n",
       "      <td>317</td>\n",
       "      <td>7.148909</td>\n",
       "    </tr>\n",
       "    <tr>\n",
       "      <th>2701</th>\n",
       "      <td>3782</td>\n",
       "      <td>7.090320</td>\n",
       "    </tr>\n",
       "  </tbody>\n",
       "</table>\n",
       "</div>"
      ],
      "text/plain": [
       "      anime_id  predicted_rating\n",
       "932        572          8.892566\n",
       "449       1575          8.286678\n",
       "448        199          8.190081\n",
       "200        853          8.179647\n",
       "166        120          7.947438\n",
       "317      31043          7.552004\n",
       "272       7311          7.216020\n",
       "379       1689          7.203213\n",
       "1032       317          7.148909\n",
       "2701      3782          7.090320"
      ]
     },
     "execution_count": 39,
     "metadata": {},
     "output_type": "execute_result"
    }
   ],
   "source": [
    "# New predictions for user_id 1\n",
    "new_predictions = predict_ratings(1, test_df['anime_id'].unique(), algo)\n",
    "new_predictions.head(10)"
   ]
  },
  {
   "cell_type": "code",
   "execution_count": 45,
   "metadata": {},
   "outputs": [
    {
     "data": {
      "text/html": [
       "<div>\n",
       "<style scoped>\n",
       "    .dataframe tbody tr th:only-of-type {\n",
       "        vertical-align: middle;\n",
       "    }\n",
       "\n",
       "    .dataframe tbody tr th {\n",
       "        vertical-align: top;\n",
       "    }\n",
       "\n",
       "    .dataframe thead th {\n",
       "        text-align: right;\n",
       "    }\n",
       "</style>\n",
       "<table border=\"1\" class=\"dataframe\">\n",
       "  <thead>\n",
       "    <tr style=\"text-align: right;\">\n",
       "      <th></th>\n",
       "      <th>anime_id</th>\n",
       "      <th>predicted_rating</th>\n",
       "      <th>title</th>\n",
       "      <th>genre</th>\n",
       "    </tr>\n",
       "  </thead>\n",
       "  <tbody>\n",
       "    <tr>\n",
       "      <th>0</th>\n",
       "      <td>572</td>\n",
       "      <td>8.892566</td>\n",
       "      <td>Kaze no Tani no Nausicaä</td>\n",
       "      <td>Adventure, Fantasy</td>\n",
       "    </tr>\n",
       "    <tr>\n",
       "      <th>1</th>\n",
       "      <td>1575</td>\n",
       "      <td>8.286678</td>\n",
       "      <td>Code Geass: Hangyaku no Lelouch</td>\n",
       "      <td>Action, Military, Sci-Fi, Super Power, Drama, ...</td>\n",
       "    </tr>\n",
       "    <tr>\n",
       "      <th>2</th>\n",
       "      <td>199</td>\n",
       "      <td>8.190081</td>\n",
       "      <td>Sen to Chihiro no Kamikakushi</td>\n",
       "      <td>Adventure, Supernatural, Drama</td>\n",
       "    </tr>\n",
       "    <tr>\n",
       "      <th>3</th>\n",
       "      <td>853</td>\n",
       "      <td>8.179647</td>\n",
       "      <td>Ouran Koukou Host Club</td>\n",
       "      <td>Comedy, Harem, Romance, School, Shoujo</td>\n",
       "    </tr>\n",
       "    <tr>\n",
       "      <th>4</th>\n",
       "      <td>120</td>\n",
       "      <td>7.947438</td>\n",
       "      <td>Fruits Basket</td>\n",
       "      <td>Slice of Life, Comedy, Drama, Romance, Fantasy...</td>\n",
       "    </tr>\n",
       "  </tbody>\n",
       "</table>\n",
       "</div>"
      ],
      "text/plain": [
       "   anime_id  predicted_rating                            title  \\\n",
       "0       572          8.892566         Kaze no Tani no Nausicaä   \n",
       "1      1575          8.286678  Code Geass: Hangyaku no Lelouch   \n",
       "2       199          8.190081    Sen to Chihiro no Kamikakushi   \n",
       "3       853          8.179647           Ouran Koukou Host Club   \n",
       "4       120          7.947438                    Fruits Basket   \n",
       "\n",
       "                                               genre  \n",
       "0                                 Adventure, Fantasy  \n",
       "1  Action, Military, Sci-Fi, Super Power, Drama, ...  \n",
       "2                     Adventure, Supernatural, Drama  \n",
       "3             Comedy, Harem, Romance, School, Shoujo  \n",
       "4  Slice of Life, Comedy, Drama, Romance, Fantasy...  "
      ]
     },
     "execution_count": 45,
     "metadata": {},
     "output_type": "execute_result"
    }
   ],
   "source": [
    "# Merge the new_predictions DataFrame with test_df to get the titles and genres\n",
    "new_predictions_with_info = pd.merge(new_predictions, test_df[['anime_id', 'title', 'genre']].drop_duplicates(), on='anime_id', how='left')\n",
    "\n",
    "# Display the top 10 recommendations with titles and genres\n",
    "new_predictions_with_info.head(5)"
   ]
  },
  {
   "cell_type": "code",
   "execution_count": 47,
   "metadata": {},
   "outputs": [
    {
     "data": {
      "text/html": [
       "<div>\n",
       "<style scoped>\n",
       "    .dataframe tbody tr th:only-of-type {\n",
       "        vertical-align: middle;\n",
       "    }\n",
       "\n",
       "    .dataframe tbody tr th {\n",
       "        vertical-align: top;\n",
       "    }\n",
       "\n",
       "    .dataframe thead th {\n",
       "        text-align: right;\n",
       "    }\n",
       "</style>\n",
       "<table border=\"1\" class=\"dataframe\">\n",
       "  <thead>\n",
       "    <tr style=\"text-align: right;\">\n",
       "      <th></th>\n",
       "      <th>anime_id</th>\n",
       "      <th>title</th>\n",
       "      <th>genre</th>\n",
       "      <th>my_score</th>\n",
       "    </tr>\n",
       "  </thead>\n",
       "  <tbody>\n",
       "    <tr>\n",
       "      <th>6586</th>\n",
       "      <td>199</td>\n",
       "      <td>Sen to Chihiro no Kamikakushi</td>\n",
       "      <td>Adventure, Supernatural, Drama</td>\n",
       "      <td>10</td>\n",
       "    </tr>\n",
       "    <tr>\n",
       "      <th>6572</th>\n",
       "      <td>57</td>\n",
       "      <td>Beck</td>\n",
       "      <td>Comedy, Drama, Music, Shounen, Slice of Life</td>\n",
       "      <td>9</td>\n",
       "    </tr>\n",
       "    <tr>\n",
       "      <th>6796</th>\n",
       "      <td>1559</td>\n",
       "      <td>Shijou Saikyou no Deshi Kenichi</td>\n",
       "      <td>Action, Comedy, Martial Arts, School, Shounen</td>\n",
       "      <td>9</td>\n",
       "    </tr>\n",
       "    <tr>\n",
       "      <th>6841</th>\n",
       "      <td>627</td>\n",
       "      <td>Major S1</td>\n",
       "      <td>Comedy, Sports, Drama, Shounen</td>\n",
       "      <td>9</td>\n",
       "    </tr>\n",
       "    <tr>\n",
       "      <th>6689</th>\n",
       "      <td>71</td>\n",
       "      <td>Full Metal Panic!</td>\n",
       "      <td>Action, Military, Sci-Fi, Comedy, Mecha</td>\n",
       "      <td>9</td>\n",
       "    </tr>\n",
       "  </tbody>\n",
       "</table>\n",
       "</div>"
      ],
      "text/plain": [
       "      anime_id                            title  \\\n",
       "6586       199    Sen to Chihiro no Kamikakushi   \n",
       "6572        57                             Beck   \n",
       "6796      1559  Shijou Saikyou no Deshi Kenichi   \n",
       "6841       627                         Major S1   \n",
       "6689        71                Full Metal Panic!   \n",
       "\n",
       "                                              genre  my_score  \n",
       "6586                 Adventure, Supernatural, Drama        10  \n",
       "6572   Comedy, Drama, Music, Shounen, Slice of Life         9  \n",
       "6796  Action, Comedy, Martial Arts, School, Shounen         9  \n",
       "6841                 Comedy, Sports, Drama, Shounen         9  \n",
       "6689        Action, Military, Sci-Fi, Comedy, Mecha         9  "
      ]
     },
     "execution_count": 47,
     "metadata": {},
     "output_type": "execute_result"
    }
   ],
   "source": [
    "# Filter the processed_df for user_id 1 and sort by 'my_score' in descending order\n",
    "top_rated_animes_by_user = processed_df[processed_df['user_id'] == 1].sort_values('my_score', ascending=False).head(5)\n",
    "\n",
    "# Display the top 5 rated anime by the user\n",
    "top_rated_animes_by_user[['anime_id', 'title', 'genre', 'my_score']]"
   ]
  }
 ],
 "metadata": {
  "kernelspec": {
   "display_name": "pacmann_rec_system",
   "language": "python",
   "name": "python3"
  },
  "language_info": {
   "codemirror_mode": {
    "name": "ipython",
    "version": 3
   },
   "file_extension": ".py",
   "mimetype": "text/x-python",
   "name": "python",
   "nbconvert_exporter": "python",
   "pygments_lexer": "ipython3",
   "version": "3.12.2"
  }
 },
 "nbformat": 4,
 "nbformat_minor": 2
}
